{
 "cells": [
  {
   "cell_type": "code",
   "execution_count": 1,
   "metadata": {},
   "outputs": [],
   "source": [
    "from sklearn.linear_model import LogisticRegressionCV\n",
    "from sklearn.metrics import classification_report\n",
    "from sklearn.metrics import accuracy_score\n",
    "import sklearn.utils\n",
    "from sklearn.feature_extraction.text import TfidfVectorizer\n",
    "from sklearn.model_selection import train_test_split\n",
    "import nltk\n",
    "import random\n",
    "import re\n",
    "from nltk.stem import PorterStemmer\n",
    "import pandas as pd\n",
    "import numpy as np\n",
    "\n",
    "#nltk.download('punkt')\n",
    "#nltk.download('stopwords')"
   ]
  },
  {
   "cell_type": "code",
   "execution_count": 2,
   "metadata": {},
   "outputs": [
    {
     "name": "stdout",
     "output_type": "stream",
     "text": [
      "<class 'pandas.core.frame.DataFrame'>\n",
      "RangeIndex: 1600000 entries, 0 to 1599999\n",
      "Data columns (total 2 columns):\n",
      "lable    1600000 non-null int64\n",
      "text     1600000 non-null object\n",
      "dtypes: int64(1), object(1)\n",
      "memory usage: 24.4+ MB\n",
      "None\n",
      "negative:  4954 \t Positive:  5046\n"
     ]
    }
   ],
   "source": [
    "tweets = pd.read_csv(\"tweets.csv\", encoding='latin1', usecols=[0, 5], header=None, delimiter=',', quotechar='\"')\n",
    "tweets.columns = ['lable', 'text']\n",
    "print(tweets.info())\n",
    "tweets = sklearn.utils.shuffle(tweets, random_state=0)\n",
    "tweets = tweets[:10000]\n",
    "z = 0\n",
    "o = 0\n",
    "for n in tweets.lable:\n",
    "    if(n == 0):\n",
    "        z += 1\n",
    "    else:\n",
    "        o +=1\n",
    "\n",
    "print(\"negative: \",z, \"\\t\",\"Positive: \", o)"
   ]
  },
  {
   "cell_type": "code",
   "execution_count": 15,
   "metadata": {},
   "outputs": [],
   "source": [
    "def prepare(data):\n",
    "    X = []\n",
    "    sent_tokenizer = nltk.data.load('tokenizers/punkt/english.pickle')\n",
    "    stopwords = nltk.corpus.stopwords.words('english')\n",
    "    whitelist = [\"n't\", \"not\", \"no\"]\n",
    "    Stemmer = PorterStemmer()\n",
    "    for row in data.text:\n",
    "        row = re.sub(r'^https?:\\/\\/.*[\\r\\n]*', '', row, flags = re.MULTILINE) # Removing URLs\n",
    "        row = re.sub(r'@\\w+', '', row, flags = re.MULTILINE) # Removing accounts tag(@Ali)\n",
    "        row = re.sub(r'[^\\w\\s]','', row) # Removing Punctuation\n",
    "        row = sent_tokenizer.tokenize(row)\n",
    "        tokens = []\n",
    "        for sentence in row:\n",
    "            words = nltk.word_tokenize(sentence)\n",
    "            # Removing stopwords, Stemming and Converting every token to lowercase\n",
    "            tokens += [Stemmer.stem(token.lower()) for token in words if (token.lower() not in stopwords or token in whitelist) and len(token) > 1] \n",
    "        row = tokens\n",
    "        X += [' '.join(row)]\n",
    "        \n",
    "    #print(X[:10])\n",
    "    return X"
   ]
  },
  {
   "cell_type": "code",
   "execution_count": 16,
   "metadata": {},
   "outputs": [],
   "source": [
    "def Extract_Features(tweets):\n",
    "    #print(tweets[:10])\n",
    "    vectorizer = TfidfVectorizer()\n",
    "    \n",
    "    features = vectorizer.fit_transform(tweets)\n",
    "    return features"
   ]
  },
  {
   "cell_type": "code",
   "execution_count": 17,
   "metadata": {},
   "outputs": [],
   "source": [
    "X = Extract_Features(prepare(tweets))\n",
    "y = tweets.lable\n",
    "X_train, X_test, y_train, y_test  = train_test_split(X, y, test_size=0.20, random_state=47)"
   ]
  },
  {
   "cell_type": "code",
   "execution_count": 18,
   "metadata": {},
   "outputs": [
    {
     "name": "stderr",
     "output_type": "stream",
     "text": [
      "[Parallel(n_jobs=1)]: Using backend SequentialBackend with 1 concurrent workers.\n",
      "[Parallel(n_jobs=1)]: Done   5 out of   5 | elapsed:    9.3s finished\n"
     ]
    }
   ],
   "source": [
    "model = LogisticRegressionCV(cv=5, verbose=1, solver='newton-cg')\n",
    "model.fit(X_train, y_train)\n",
    "y_pred = model.predict(X_test)"
   ]
  },
  {
   "cell_type": "code",
   "execution_count": 19,
   "metadata": {},
   "outputs": [
    {
     "name": "stdout",
     "output_type": "stream",
     "text": [
      "              precision    recall  f1-score   support\n",
      "\n",
      "    Negative       0.78      0.71      0.75      1004\n",
      "    Positive       0.74      0.80      0.77       996\n",
      "\n",
      "   micro avg       0.76      0.76      0.76      2000\n",
      "   macro avg       0.76      0.76      0.76      2000\n",
      "weighted avg       0.76      0.76      0.76      2000\n",
      "\n",
      "Logistic Regression Accuracy = 75.7 %\n"
     ]
    }
   ],
   "source": [
    "print(classification_report(y_test, y_pred, target_names=['Negative', 'Positive']))\n",
    "print(\"Logistic Regression Accuracy =\", accuracy_score(y_test, y_pred) * 100, \"%\")"
   ]
  },
  {
   "cell_type": "code",
   "execution_count": null,
   "metadata": {},
   "outputs": [],
   "source": []
  }
 ],
 "metadata": {
  "kernelspec": {
   "display_name": "Python 3",
   "language": "python",
   "name": "python3"
  },
  "language_info": {
   "codemirror_mode": {
    "name": "ipython",
    "version": 3
   },
   "file_extension": ".py",
   "mimetype": "text/x-python",
   "name": "python",
   "nbconvert_exporter": "python",
   "pygments_lexer": "ipython3",
   "version": "3.7.3"
  }
 },
 "nbformat": 4,
 "nbformat_minor": 2
}
