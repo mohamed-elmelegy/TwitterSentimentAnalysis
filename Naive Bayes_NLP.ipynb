{
 "cells": [
  {
   "cell_type": "code",
   "execution_count": 1,
   "metadata": {},
   "outputs": [],
   "source": [
    "import pandas as pd\n",
    "import numpy as np\n",
    "import csv\n",
    "import nltk\n",
    "import random\n",
    "import re\n",
    "from nltk.stem import PorterStemmer\n",
    "import sklearn\n",
    "import sklearn.utils\n",
    "from sklearn.feature_extraction.text import TfidfVectorizer \n",
    "from sklearn.model_selection import train_test_split\n",
    "from sklearn.naive_bayes import GaussianNB, BernoulliNB, MultinomialNB\n",
    "\n",
    "#nltk.download('punkt')\n",
    "#nltk.download('stopwords')"
   ]
  },
  {
   "cell_type": "code",
   "execution_count": 2,
   "metadata": {},
   "outputs": [
    {
     "name": "stdout",
     "output_type": "stream",
     "text": [
      "<class 'pandas.core.frame.DataFrame'>\n",
      "RangeIndex: 1600000 entries, 0 to 1599999\n",
      "Data columns (total 2 columns):\n",
      "lable    1600000 non-null int64\n",
      "text     1600000 non-null object\n",
      "dtypes: int64(1), object(1)\n",
      "memory usage: 24.4+ MB\n",
      "negative:  4954 \t Positive:  5046\n"
     ]
    }
   ],
   "source": [
    "tweets = pd.read_csv(\"tweets.csv\", encoding='latin1', usecols=[0, 5], header=None, delimiter=',', quotechar='\"')\n",
    "tweets.columns = ['lable', 'text']\n",
    "tweets.info()\n",
    "tweets = sklearn.utils.shuffle(tweets, random_state=0)\n",
    "tweets = tweets[:10000]\n",
    "z = 0\n",
    "o = 0\n",
    "for n in tweets.lable:\n",
    "    if(n == 0):\n",
    "        z += 1\n",
    "    else:\n",
    "        o +=1\n",
    "\n",
    "print(\"negative: \",z, \"\\t\",\"Positive: \", o)"
   ]
  },
  {
   "cell_type": "code",
   "execution_count": 6,
   "metadata": {},
   "outputs": [],
   "source": [
    "def PreProcessDataset(Dataset):\n",
    "    \n",
    "    X = []\n",
    "    sent_tokenizer = nltk.data.load('tokenizers/punkt/english.pickle')\n",
    "    stopwords = nltk.corpus.stopwords.words('english')\n",
    "    whitelist = [\"n't\", \"not\", \"no\"]\n",
    "    Stemmer = PorterStemmer()\n",
    "    for row in Dataset.text:\n",
    "        row = re.sub(r'^https?:\\/\\/.*[\\r\\n]*', '', row, flags = re.MULTILINE) # Removing URLs\n",
    "        row = re.sub(r'@\\w+', '', row, flags = re.MULTILINE) # Removing accounts tag(@Ali)\n",
    "        row = re.sub(r'[^\\w\\s]','', row) # Removing Punctuation\n",
    "        row = sent_tokenizer.tokenize(row)\n",
    "        tokens = []\n",
    "        for sentence in row:\n",
    "            words = nltk.word_tokenize(sentence)\n",
    "            # Removing stopwords, Stemming and Converting every token to lowercase\n",
    "            tokens += [Stemmer.stem(token.lower()) for token in words if (token.lower() not in stopwords or token in whitelist) and len(token) > 1]\n",
    "        row = tokens\n",
    "        X += [' '.join(row)]\n",
    "        \n",
    "    #print(X[:10])\n",
    "    return X"
   ]
  },
  {
   "cell_type": "code",
   "execution_count": 7,
   "metadata": {},
   "outputs": [],
   "source": [
    "def Extract_Features(tweets):\n",
    "    vectorizer = TfidfVectorizer()\n",
    "    \n",
    "    features = vectorizer.fit_transform(tweets)\n",
    "    return features"
   ]
  },
  {
   "cell_type": "code",
   "execution_count": 8,
   "metadata": {},
   "outputs": [],
   "source": [
    "X = Extract_Features(PreProcessDataset(tweets))\n",
    "y = tweets.lable\n",
    "X_train, X_test, y_train, y_test  = train_test_split(X, y, test_size=0.20, random_state=47)"
   ]
  },
  {
   "cell_type": "code",
   "execution_count": 9,
   "metadata": {},
   "outputs": [
    {
     "name": "stdout",
     "output_type": "stream",
     "text": [
      "Model Acuuracy: 74.15 %\n",
      "Number of mislabeled points out of a total 2000 points : 517\n"
     ]
    }
   ],
   "source": [
    "mnb = MultinomialNB()\n",
    "mnb.fit(X_train, y_train)\n",
    "\n",
    "score = mnb.score(X_test, y_test)\n",
    "\n",
    "print(\"Model Acuuracy: %0.2f\" % (score * 100), \"%\")\n",
    "print(\"Number of mislabeled points out of a total %d points : %d\" % (X_test.shape[0], (y_test != mnb.predict(X_test)).sum()))"
   ]
  },
  {
   "cell_type": "code",
   "execution_count": null,
   "metadata": {},
   "outputs": [],
   "source": []
  }
 ],
 "metadata": {
  "kernelspec": {
   "display_name": "Python 3",
   "language": "python",
   "name": "python3"
  },
  "language_info": {
   "codemirror_mode": {
    "name": "ipython",
    "version": 3
   },
   "file_extension": ".py",
   "mimetype": "text/x-python",
   "name": "python",
   "nbconvert_exporter": "python",
   "pygments_lexer": "ipython3",
   "version": "3.7.3"
  }
 },
 "nbformat": 4,
 "nbformat_minor": 2
}
